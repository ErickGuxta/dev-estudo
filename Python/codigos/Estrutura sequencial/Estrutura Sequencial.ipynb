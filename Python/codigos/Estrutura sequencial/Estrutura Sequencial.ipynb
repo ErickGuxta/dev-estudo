{
 "cells": [
  {
   "cell_type": "markdown",
   "id": "bb0f9514",
   "metadata": {
    "id": "bb0f9514"
   },
   "source": [
    "# Lista de Estrutura Sequencial"
   ]
  },
  {
   "cell_type": "markdown",
   "id": "4e7a8c30",
   "metadata": {
    "id": "4e7a8c30"
   },
   "source": [
    "#### 1. Faça um Programa que mostre a mensagem (print) \"Alo mundo\" na tela."
   ]
  },
  {
   "cell_type": "code",
   "execution_count": null,
   "id": "883bfe85",
   "metadata": {
    "id": "883bfe85"
   },
   "outputs": [
    {
     "name": "stdout",
     "output_type": "stream",
     "text": [
      "Alo Mundo\n"
     ]
    }
   ],
   "source": [
    "print(\"Alo Mundo\")"
   ]
  },
  {
   "cell_type": "markdown",
   "id": "71d6d6a2",
   "metadata": {
    "id": "71d6d6a2"
   },
   "source": [
    "#### 2. Faça um Programa que peça um número (input) e então mostre a mensagem: \"O número informado foi [número].\""
   ]
  },
  {
   "cell_type": "code",
   "execution_count": 1,
   "id": "30cfffcf",
   "metadata": {
    "id": "30cfffcf"
   },
   "outputs": [
    {
     "name": "stdout",
     "output_type": "stream",
     "text": [
      "O número informado foi \n"
     ]
    }
   ],
   "source": [
    "numero = input(\"Digite um número:\")\n",
    "print(f\"O número informado foi {numero}\")"
   ]
  },
  {
   "cell_type": "markdown",
   "id": "c5e43160",
   "metadata": {
    "id": "c5e43160"
   },
   "source": [
    "#### 3. Faça um Programa que peça dois números e imprima a soma."
   ]
  },
  {
   "cell_type": "code",
   "execution_count": 1,
   "id": "b0e79590",
   "metadata": {
    "id": "b0e79590",
    "scrolled": false
   },
   "outputs": [],
   "source": [
    "n1 = float(input(\"Digite o primeiro número: \"))\n",
    "n2 =  float(input(\"Digite o segundo número: \"))\n",
    "print(f\"A soma é {n1 + n2}\")"
   ]
  },
  {
   "cell_type": "markdown",
   "id": "17826987",
   "metadata": {
    "id": "17826987"
   },
   "source": [
    "#### 4. Faça um Programa que peça as 4 notas bimestrais de um aluno e mostre a média de todas as notas."
   ]
  },
  {
   "cell_type": "code",
   "execution_count": 11,
   "id": "23b66762",
   "metadata": {
    "id": "23b66762"
   },
   "outputs": [
    {
     "name": "stdout",
     "output_type": "stream",
     "text": [
      "Digite a primeira nota: 5\n",
      "Digite a segunda nota: 6.8\n",
      "Digite a primeira nota: 8.1\n",
      "Digite a segunda nota: 6.0\n",
      "A média bimestral é 6.475\n"
     ]
    }
   ],
   "source": [
    "n1 = float(input(\"Digite a primeira nota: \"))\n",
    "n2 = float(input(\"Digite a segunda nota: \"))\n",
    "n3 = float(input(\"Digite a primeira nota: \"))\n",
    "n4 = float(input(\"Digite a segunda nota: \"))\n",
    "print(f\"A média bimestral é {(n1 + n2+ n3 + n4) / 4}\")"
   ]
  },
  {
   "cell_type": "markdown",
   "id": "62d461c5",
   "metadata": {
    "id": "62d461c5"
   },
   "source": [
    "#### 5. Faça um Programa que converta metros para centímetros. Você pode pedir o comprimento em metros para o usuário (input)."
   ]
  },
  {
   "cell_type": "code",
   "execution_count": 15,
   "id": "d642f1ba",
   "metadata": {
    "id": "d642f1ba"
   },
   "outputs": [
    {
     "name": "stdout",
     "output_type": "stream",
     "text": [
      "Digite a medida em metros: 547\n",
      "O comprimento é de 54700.0 metros\n"
     ]
    }
   ],
   "source": [
    "comprimento = float(input(\"Digite a medida em metros: \"))\n",
    "print(f\"O comprimento é de {comprimento * 100} metros\")"
   ]
  },
  {
   "cell_type": "markdown",
   "id": "f1311697",
   "metadata": {
    "id": "f1311697"
   },
   "source": [
    "#### 6. Faça um Programa que calcule a área de uma sala de um apartamento. Para isso, o seu programa precisa pedir a largura da sala, o comprimento da sala e imprimir a área em m² da sala."
   ]
  },
  {
   "cell_type": "code",
   "execution_count": 16,
   "id": "612ea24b",
   "metadata": {
    "id": "612ea24b"
   },
   "outputs": [
    {
     "name": "stdout",
     "output_type": "stream",
     "text": [
      "Digite a largura da sala: 8\n",
      "Digite o comprimento da sala: 9\n",
      "A área da sala é de 72.0 m²\n"
     ]
    }
   ],
   "source": [
    "l = float(input(\"Digite a largura da sala: \"))\n",
    "c = float(input(\"Digite o comprimento da sala: \"))\n",
    "print(f\"A área da sala é de {l * c} m²\")"
   ]
  },
  {
   "cell_type": "markdown",
   "id": "2a285929",
   "metadata": {
    "id": "2a285929"
   },
   "source": [
    "#### 7. Faça um Programa que pergunte quanto você ganha por hora e o número de horas trabalhadas no mês. Calcule e mostre o total do seu salário no referido mês."
   ]
  },
  {
   "cell_type": "code",
   "execution_count": 18,
   "id": "359e2232",
   "metadata": {
    "id": "359e2232"
   },
   "outputs": [
    {
     "name": "stdout",
     "output_type": "stream",
     "text": [
      "Quanto você ganha por hora: 10\n",
      "Quantas horas você trabalha no mês: 240\n",
      "O salário total é 2400.0 reais \n"
     ]
    }
   ],
   "source": [
    "ganho_hr = float(input(\"Quanto você ganha por hora: \"))\n",
    "hrs_trabalhadas = float(input(\"Quantas horas você trabalha no mês: \"))\n",
    "print(f\"O salário total é {ganho_hr * hrs_trabalhadas} reais \")"
   ]
  },
  {
   "cell_type": "markdown",
   "id": "7e2d4615",
   "metadata": {
    "id": "7e2d4615"
   },
   "source": [
    "#### 8. Vamos criar um conversor de temperatura. Faça um Programa que peça a temperatura em graus Fahrenheit, transforme e mostre a temperatura em graus Celsius.\n",
    "$C = \\frac{5}{9}(F-32)$"
   ]
  },
  {
   "cell_type": "code",
   "execution_count": 11,
   "id": "82daf9fd",
   "metadata": {
    "id": "82daf9fd",
    "scrolled": true
   },
   "outputs": [
    {
     "name": "stdout",
     "output_type": "stream",
     "text": [
      "Qual a temperatura (Fahrenheit): 20\n",
      "A temperatura (Celsius) é -6.666666666666667\n"
     ]
    }
   ],
   "source": [
    "f = float(input(\"Qual a temperatura (Fahrenheit): \"))\n",
    "print(f\"A temperatura (Celsius) é {(5 / 9) * (f - 32)}\")"
   ]
  },
  {
   "cell_type": "markdown",
   "id": "20708b1c",
   "metadata": {
    "id": "20708b1c"
   },
   "source": [
    "#### 9. Faça um Programa que peça a temperatura em graus Celsius, transforme e mostre em graus Fahrenheit.\n",
    "$F = \\frac{9}{5}C + 32$"
   ]
  },
  {
   "cell_type": "code",
   "execution_count": 12,
   "id": "c73cfb38",
   "metadata": {
    "id": "c73cfb38"
   },
   "outputs": [
    {
     "name": "stdout",
     "output_type": "stream",
     "text": [
      "Qual a temperatura (Celsius): 35\n",
      "A temperatura (Fahrenheit) é 95.0\n"
     ]
    }
   ],
   "source": [
    "c = float(input(\"Qual a temperatura (Celsius): \"))\n",
    "print(f\"A temperatura (Fahrenheit) é {((9 / 5) * c) + 32}\")"
   ]
  },
  {
   "cell_type": "markdown",
   "id": "b263a9dc",
   "metadata": {
    "id": "b263a9dc"
   },
   "source": [
    "#### 10. Tendo como dados de entrada a altura (h) de uma pessoa, construa um algoritmo que calcule seu peso ideal, usando a seguinte fórmula:\n",
    "$P = 72,7h - 58$\n",
    "\n",
    "Lembrando que \"algoritmo\" nada mais é do que um programa, como todos os outros que você vem fazendo"
   ]
  },
  {
   "cell_type": "code",
   "execution_count": 14,
   "id": "9a9b8dca",
   "metadata": {
    "id": "9a9b8dca"
   },
   "outputs": [
    {
     "name": "stdout",
     "output_type": "stream",
     "text": [
      "Qual a sua altura: 1.70\n",
      "Seu peso ideal é 65.59\n"
     ]
    }
   ],
   "source": [
    "h = float(input(\"Qual a sua altura: \"))\n",
    "print(f\"Seu peso ideal é {(72.7 * h) - 58}\")\n"
   ]
  },
  {
   "cell_type": "markdown",
   "id": "13bb40d7",
   "metadata": {
    "id": "13bb40d7"
   },
   "source": [
    "#### 11. Tendo como dado de entrada a altura (h) de uma pessoa, construa um algoritmo que calcule seu peso ideal, utilizando as seguintes fórmulas:\n",
    "##### a. Para homens: $P = 72,7h - 58$\n",
    "##### b. Para mulheres: $P = 62,1h - 44,7$"
   ]
  },
  {
   "cell_type": "code",
   "execution_count": 20,
   "id": "bf82dc8c",
   "metadata": {
    "id": "bf82dc8c"
   },
   "outputs": [
    {
     "name": "stdout",
     "output_type": "stream",
     "text": [
      "Informe a altura em metros: 1.79\n",
      "O peso ideal com essa altura para homens é: 72.13300000000001 kg\n",
      "O peso ideal com essa altura para mulheres é: 66.459 kg\n"
     ]
    }
   ],
   "source": [
    "altura = float(input('Informe a altura em metros: '))\n",
    "peso_ideal_homens = 72.7 * altura - 58\n",
    "peso_ideal_mulheres = 62.1 * altura - 44.7\n",
    "\n",
    "print('O peso ideal com essa altura para homens é:', peso_ideal_homens, 'kg')\n",
    "print('O peso ideal com essa altura para mulheres é:', peso_ideal_mulheres, 'kg')"
   ]
  },
  {
   "cell_type": "markdown",
   "id": "f208ef89",
   "metadata": {
    "id": "f208ef89"
   },
   "source": [
    "#### 12. Faça um Programa que pergunte quanto você ganha por hora e o número de horas trabalhadas no mês."
   ]
  },
  {
   "cell_type": "code",
   "execution_count": 22,
   "id": "2d5b23e0",
   "metadata": {
    "id": "2d5b23e0",
    "scrolled": true
   },
   "outputs": [
    {
     "name": "stdout",
     "output_type": "stream",
     "text": [
      "Quanto você ganha por hora: 10\n",
      "Quantas horas você trabalha no mês: 240\n"
     ]
    }
   ],
   "source": [
    "ganho_hr = float(input(\"Quanto você ganha por hora: \"))\n",
    "hrs_trabalhadas = float(input(\"Quantas horas você trabalha no mês: \"))"
   ]
  },
  {
   "cell_type": "markdown",
   "id": "607dee3c",
   "metadata": {
    "id": "607dee3c"
   },
   "source": [
    "#####  Calcule o salário bruto (horas * salario por hora)"
   ]
  },
  {
   "cell_type": "code",
   "execution_count": 26,
   "id": "7f80ccbb",
   "metadata": {
    "id": "7f80ccbb",
    "scrolled": false
   },
   "outputs": [
    {
     "name": "stdout",
     "output_type": "stream",
     "text": [
      "2400.0\n"
     ]
    }
   ],
   "source": [
    "salario_bruto = float(ganho_hr * hrs_trabalhadas)\n",
    "print(salario_bruto)"
   ]
  },
  {
   "cell_type": "markdown",
   "id": "2ed93cb0",
   "metadata": {
    "id": "2ed93cb0"
   },
   "source": [
    "##### Calcule o desconto do IR (11% do salário bruto)"
   ]
  },
  {
   "cell_type": "code",
   "execution_count": 35,
   "id": "3363e22f",
   "metadata": {
    "id": "3363e22f",
    "scrolled": false
   },
   "outputs": [
    {
     "name": "stdout",
     "output_type": "stream",
     "text": [
      "264.0\n"
     ]
    }
   ],
   "source": [
    "desconto_ir = float(salario_bruto * 0.11)\n",
    "print(desconto_ir)"
   ]
  },
  {
   "cell_type": "markdown",
   "id": "0994b2c0",
   "metadata": {
    "id": "0994b2c0"
   },
   "source": [
    "##### Calcule o desconto do INSS (8% do salário bruto)"
   ]
  },
  {
   "cell_type": "code",
   "execution_count": 36,
   "id": "748c6088",
   "metadata": {
    "id": "748c6088"
   },
   "outputs": [
    {
     "name": "stdout",
     "output_type": "stream",
     "text": [
      "192.0\n"
     ]
    }
   ],
   "source": [
    "desconto_inss = float(salario_bruto * 0.08)\n",
    "print(desconto_inss)"
   ]
  },
  {
   "cell_type": "markdown",
   "id": "06e8dae4",
   "metadata": {
    "id": "06e8dae4"
   },
   "source": [
    "##### Calcule o desconto do sindicato (5% do salário bruto)"
   ]
  },
  {
   "cell_type": "code",
   "execution_count": 37,
   "id": "21b95b15",
   "metadata": {
    "id": "21b95b15",
    "scrolled": true
   },
   "outputs": [
    {
     "name": "stdout",
     "output_type": "stream",
     "text": [
      "120.0\n"
     ]
    }
   ],
   "source": [
    "desconto_sindicato = float(salario_bruto * 0.05)\n",
    "print(desconto_sindicato)"
   ]
  },
  {
   "cell_type": "markdown",
   "id": "bb14ce36",
   "metadata": {
    "id": "bb14ce36"
   },
   "source": [
    "##### Calcule o salário líquido (salário bruto - descontos)"
   ]
  },
  {
   "cell_type": "code",
   "execution_count": 38,
   "id": "56317086",
   "metadata": {
    "id": "56317086"
   },
   "outputs": [
    {
     "name": "stdout",
     "output_type": "stream",
     "text": [
      "1824.0\n"
     ]
    }
   ],
   "source": [
    "descontos = float(desconto_ir + desconto_inss + desconto_sindicato)\n",
    "salario_liquido = float(salario_bruto - descontos)\n",
    "print(salario_liquido)"
   ]
  },
  {
   "cell_type": "markdown",
   "id": "cfbfcc87",
   "metadata": {
    "id": "cfbfcc87"
   },
   "source": [
    "#### 13. Faça um programa para uma loja de tintas. O programa deverá pedir o tamanho em metros quadrados da área a ser pintada. Considere que a cobertura da tinta é de 1 litro para cada 3 metros quadrados e que a tinta é vendida em latas de 18 litros, que custam R\\$ 80,00. Informe ao usuário a quantidades de latas de tinta a serem compradas e o preço total. (para simplificação nesse momento, não se preocupe em arredondar a quantidade de latas a serem compradas - vamos trabalhar isso em breve)"
   ]
  },
  {
   "cell_type": "code",
   "execution_count": 3,
   "id": "fb6a083b",
   "metadata": {
    "id": "fb6a083b"
   },
   "outputs": [
    {
     "name": "stdout",
     "output_type": "stream",
     "text": [
      "Informe o tamanho da área a ser pintada em m²? 54\n",
      "Serão necessárias 1.0 latas\n",
      "Custo total de 80.0 reais\n"
     ]
    }
   ],
   "source": [
    "preco_lata = 80\n",
    "cobertura_lata = 54\n",
    "area_pintada = float(input(\"Informe o tamanho da área a ser pintada em m²? \"))\n",
    "\n",
    "latas_compradas = area_pintada / cobertura_lata\n",
    "print(f\"Serão necessárias {latas_compradas} latas\")\n",
    "\n",
    "preco_total = quantidade_latas_compradas * preco_lata\n",
    "print(f\"Custo total de {preco_total} reais\")\n",
    "\n",
    "#Outra solução:\n",
    "#**********************\n",
    "\n",
    "#area = float(input('Informe o tamanho da área a ser pintada em m²: '))\n",
    "#litros_tinta = area / 3 \n",
    "#latas = litros_tinta / 18\n",
    "#preco = latas * 80\n",
    "#print(f'Serão necessárias {latas} latas, custando R$ {preco} no total')\n"
   ]
  },
  {
   "cell_type": "markdown",
   "id": "d6503c92",
   "metadata": {
    "id": "d6503c92"
   },
   "source": [
    "#### 14. Faça um programa que peça o tamanho de um arquivo para download (em MB) e a velocidade de um link de Internet (em Mbps), calcule e informe o tempo aproximado de download do arquivo usando este link (em minutos).\n",
    "\n",
    "Detalhe: MB significa megabyte, Mb (com b minúsculo) significa megabit. Um megabit é 1/8 de um megabyte. "
   ]
  },
  {
   "cell_type": "code",
   "execution_count": 5,
   "id": "0563aa62",
   "metadata": {
    "id": "0563aa62"
   },
   "outputs": [
    {
     "name": "stdout",
     "output_type": "stream",
     "text": [
      "Informe o tamanho do arquivo em MB: 100\n",
      "Informe a velocidade da conexão em Mbps: 1\n",
      "O tempo de download é de 13.333333333333334 minutos\n"
     ]
    }
   ],
   "source": [
    "tamanho = float(input(\"Informe o tamanho do arquivo em MB: \"))\n",
    "velocidade = float(input(\"Informe a velocidade da conexão em Mbps: \"))\n",
    "\n",
    "tamanho_megabits = tamanho * 8\n",
    "tempo = tamanho_megabits / velocidade\n",
    "tempo_minutos = tempo / 60\n",
    "\n",
    "print(f'O tempo de download é de {tempo_minutos} minutos')"
   ]
  },
  {
   "cell_type": "code",
   "execution_count": null,
   "id": "ee7225b2",
   "metadata": {},
   "outputs": [],
   "source": []
  }
 ],
 "metadata": {
  "colab": {
   "provenance": []
  },
  "kernelspec": {
   "display_name": "Python 3 (ipykernel)",
   "language": "python",
   "name": "python3"
  },
  "language_info": {
   "codemirror_mode": {
    "name": "ipython",
    "version": 3
   },
   "file_extension": ".py",
   "mimetype": "text/x-python",
   "name": "python",
   "nbconvert_exporter": "python",
   "pygments_lexer": "ipython3",
   "version": "3.11.5"
  }
 },
 "nbformat": 4,
 "nbformat_minor": 5
}

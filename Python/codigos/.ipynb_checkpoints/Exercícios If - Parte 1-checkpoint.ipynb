{
 "cells": [
  {
   "cell_type": "markdown",
   "metadata": {},
   "source": [
    "# Exercícios com if"
   ]
  },
  {
   "cell_type": "markdown",
   "metadata": {},
   "source": [
    "## 1. Cálculo de Bônus\n",
    "\n",
    "- Crie um programa que calcule e dê um print no bônus que os funcionários devem receber segundo a regra:\n",
    "\n",
    "A meta é 1000 vendas.<br> \n",
    "Se o valor de vendas for maior ou igual a meta, o valor do bônus do funcionário é 10% do valor de vendas.<br>\n",
    "Caso contrário o valor de bônus do funcionário é 0.<br>\n",
    "Print o bônus dos 3 funcionários"
   ]
  },
  {
   "cell_type": "code",
   "execution_count": 14,
   "metadata": {},
   "outputs": [
    {
     "name": "stdout",
     "output_type": "stream",
     "text": [
      "Bonus funcionario 1 é 100.0\n",
      "Funcionário 2 não ganhou bonus\n",
      "Bonus funcionario 3 é 270.0\n"
     ]
    }
   ],
   "source": [
    "vendas_funcionario1 = 1000\n",
    "vendas_funcionario2 = 770\n",
    "vendas_funcionario3 = 2700\n",
    "\n",
    "meta_vendas = 1000\n",
    "\n",
    "if vendas_funcionario1 >= meta_vendas:\n",
    "    bonus1 = 0.1 * vendas_funcionario1\n",
    "    print (f\"Bonus funcionario 1 é {bonus1}\")\n",
    "else:\n",
    "    print (f'Funcionário 1 não ganhou bonus')\n",
    "\n",
    "if vendas_funcionario2 >= meta_vendas:\n",
    "    bonus2 = 0.1 * vendas_funcionario2\n",
    "    print (f\"Bonus funcionario 2 é {bonus2}\")\n",
    "else:\n",
    "    print (f'Funcionário 2 não ganhou bonus')\n",
    "    \n",
    "if vendas_funcionario3 >= meta_vendas:\n",
    "    bonus3 = 0.1 * vendas_funcionario3\n",
    "    print (f\"Bonus funcionario 3 é {bonus3}\")\n",
    "else:\n",
    "    print (f'Funcionário 2 não ganhou bonus')\n",
    "\n",
    "\n",
    "    "
   ]
  },
  {
   "cell_type": "raw",
   "metadata": {},
   "source": [
    "Resposta:\n",
    "O funcionário 1 ganhou 100 de bônus\n",
    "O funcionário 2 ganhou 0 de bônus\n",
    "O funcionário 3 ganhou 270 de bônus"
   ]
  },
  {
   "cell_type": "markdown",
   "metadata": {},
   "source": [
    "# 2. Cálculo de bônus com uma nova regra\n",
    "\n",
    "- Agora, crie um novo código que calcule e dê um print no bônus dos funcionários novamente. Porém há uma nova regra nesse 2º caso:\n",
    "\n",
    "A meta é 1000 vendas<br>\n",
    "Agora, os funcionários que venderem muito acima da meta ganham mais bônus do que os outros. Então o bônus é definido da seguinte forma:<br>\n",
    "\n",
    "- Se vendas funcionário for maior ou igual a 2000, então o bônus é de 15% sobre o valor de vendas\n",
    "- Se vendas funcionário for menor do que 2000 e maior ou igual a 1000, então o bônus é de 10% sobre o valor de vendas\n",
    "- Se vendas funcionário for menos do que 1000 então o bônus do funcionário é de 0.\n",
    "\n",
    "Use as mesmas variáveis de vendas_funcionários"
   ]
  },
  {
   "cell_type": "code",
   "execution_count": 49,
   "metadata": {},
   "outputs": [
    {
     "name": "stdout",
     "output_type": "stream",
     "text": [
      "Bonus do funcionario 1 é 100.0\n",
      "O funcionário 2 ganhou 0 de bônus\n",
      "O funcionário 3 ganhou 405.0 de bônus\n"
     ]
    }
   ],
   "source": [
    "#crie seu código aqui\n",
    "#obs: há 2 formas de fazer, com if dentro de if ou então com if e elif. Escolha a que você preferir\n",
    "\n",
    "\n",
    "#1º maneira -> sem simplificar o código\n",
    "\n",
    "if vendas_funcionario1 >= 1000:\n",
    "    if vendas_funcionario1 >= 2000:\n",
    "        bonus1 = 0.15 * vendas_funcionario1\n",
    "        print(f\"O bonus do funcionário 1 é {bonus1}\")\n",
    "    else:\n",
    "        bonus2 = 0.1 * vendas_funcionario1\n",
    "        print(f\"Bonus do funcionario 1 é {bonus2}\")\n",
    "else:\n",
    "\n",
    "    print('O funcionário 1 ganhou {} de bônus'.format(bonus))\n",
    "    \n",
    "#2ª maneira -> if e elif\n",
    "\n",
    "if vendas_funcionario2 >= 2000:\n",
    "    bonus = 0.15 * vendas_funcionario2\n",
    "elif vendas_funcionario2 >= 1000:\n",
    "    bonus = 0.1 * vendas_funcionario2\n",
    "else:\n",
    "    bonus = 0\n",
    "print('O funcionário 2 ganhou {} de bônus'.format(bonus))\n",
    "\n",
    "#3 maneira -> simplificando o código\n",
    "\n",
    "if vendas_funcionario3 >= 1000:\n",
    "    if vendas_funcionario3 >= 2000:\n",
    "        bonus = 0.15 * vendas_funcionario3\n",
    "    else:\n",
    "        bonus = 0.1 * vendas_funcionario3\n",
    "else:\n",
    "    bonus = 0\n",
    "print('O funcionário 3 ganhou {} de bônus'.format(bonus))\n",
    "    \n",
    "\n",
    "    \n"
   ]
  },
  {
   "cell_type": "raw",
   "metadata": {},
   "source": [
    "Resposta:\n",
    "O funcionário 1 ganhou 100 de bônus\n",
    "O funcionário 2 ganhou 0 de bônus\n",
    "O funcionário 3 ganhou 405 de bônus"
   ]
  }
 ],
 "metadata": {
  "kernelspec": {
   "display_name": "Python 3 (ipykernel)",
   "language": "python",
   "name": "python3"
  },
  "language_info": {
   "codemirror_mode": {
    "name": "ipython",
    "version": 3
   },
   "file_extension": ".py",
   "mimetype": "text/x-python",
   "name": "python",
   "nbconvert_exporter": "python",
   "pygments_lexer": "ipython3",
   "version": "3.11.5"
  }
 },
 "nbformat": 4,
 "nbformat_minor": 4
}

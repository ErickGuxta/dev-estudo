{
 "cells": [
  {
   "cell_type": "markdown",
   "metadata": {},
   "source": [
    "# Exercícios\n",
    "\n",
    "## 1. Faturamento do Melhor e do Pior Mês do Ano\n",
    "\n",
    "Qual foi o valor de vendas do melhor mês do Ano?\n",
    "E valor do pior mês do ano?"
   ]
  },
  {
   "cell_type": "code",
   "execution_count": 26,
   "metadata": {},
   "outputs": [
    {
     "name": "stdout",
     "output_type": "stream",
     "text": [
      "O melhor mês do ano foi nov com 49051 vendas\n",
      "O pior mês do ano foi dez com 9650 vendas\n"
     ]
    }
   ],
   "source": [
    "meses = ['jan', 'fev', 'mar', 'abr', 'mai', 'jun', 'jul', 'ago', 'set', 'out', 'nov', 'dez']\n",
    "vendas_1sem = [25000, 29000, 22200, 17750, 15870, 19900]\n",
    "vendas_2sem = [19850, 20120, 17540, 15555, 49051, 9650]\n",
    "\n",
    "\n",
    "vendas_1sem.extend(vendas_2sem)\n",
    "valor_maior = max(vendas_1sem)\n",
    "valor_menor = min(vendas_1sem)\n",
    "\n",
    "#descobrir o indice do maior valor e a qual mês ele se relaciona \n",
    "i_maior_valor = vendas_1sem.index(valor_maior)\n",
    "melhor_mes = meses[i_maior_valor]\n",
    "\n",
    "#descobrir o indice do menor valor e a qual mês ele se relaciona \n",
    "i_menor_valor = vendas_1sem.index(valor_menor)\n",
    "pior_mes = meses[i_menor_valor]\n",
    "\n",
    "print(f'O melhor mês do ano foi {melhor_mes} com {valor_maior} vendas')\n",
    "print(f'O pior mês do ano foi {pior_mes} com {valor_menor} vendas')\n",
    "\n"
   ]
  },
  {
   "cell_type": "markdown",
   "metadata": {},
   "source": [
    "## 2. Continuação\n",
    "\n",
    "Agora relacione as duas listas para printar 'O melhor mês do ano foi {} com {} vendas' e o mesmo para o pior mês do ano.\n",
    "\n",
    "Calcule também o faturamento total do Ano e quanto que o melhor mês representou do faturamento total.\n",
    "\n",
    "Obs: Para o faturamento total, pode usar a função sum(lista) que soma todos os itens de uma lista"
   ]
  },
  {
   "cell_type": "code",
   "execution_count": 39,
   "metadata": {},
   "outputs": [
    {
     "name": "stdout",
     "output_type": "stream",
     "text": [
      "O melhor mês do ano foi nov com 49051 vendas\n",
      "O pior mês do ano foi dez com 9650 vendas\n",
      "O faturamento total de R$ 261,486.00\n",
      "O melhor mês representa 18.76% do faturamento toral\n"
     ]
    }
   ],
   "source": [
    "meses = ['jan', 'fev', 'mar', 'abr', 'mai', 'jun', 'jul', 'ago', 'set', 'out', 'nov', 'dez']\n",
    "vendas_1sem = [25000, 29000, 22200, 17750, 15870, 19900]\n",
    "vendas_2sem = [19850, 20120, 17540, 15555, 49051, 9650]\n",
    "\n",
    "\n",
    "vendas_1sem.extend(vendas_2sem)\n",
    "valor_maior = max(vendas_1sem)\n",
    "valor_menor = min(vendas_1sem)\n",
    "\n",
    "#descobrir o indice do maior valor e a qual mês ele se relaciona \n",
    "i_maior_valor = vendas_1sem.index(valor_maior)\n",
    "melhor_mes = meses[i_maior_valor]\n",
    "\n",
    "#descobrir o indice do menor valor e a qual mês ele se relaciona \n",
    "i_menor_valor = vendas_1sem.index(valor_menor)\n",
    "pior_mes = meses[i_menor_valor]\n",
    "\n",
    "print(f'O melhor mês do ano foi {melhor_mes} com {valor_maior} vendas')\n",
    "print(f'O pior mês do ano foi {pior_mes} com {valor_menor} vendas')\n",
    "\n",
    "faturamento_total = sum(vendas_1sem)\n",
    "percentual = valor_maior / faturamento_total\n",
    "\n",
    "print('O faturamento total de R$ {:,.2f}' .format(faturamento_total))\n",
    "print('O melhor mês representa {:.2%} do faturamento total' .format(percentual))"
   ]
  },
  {
   "cell_type": "markdown",
   "metadata": {},
   "source": [
    "## 3. Crie uma lista com o top 3 valores de vendas do ano (sem fazer \"no olho\")\n",
    "\n",
    "Dica: o método remove retira um item da lista."
   ]
  },
  {
   "cell_type": "code",
   "execution_count": 2,
   "metadata": {},
   "outputs": [],
   "source": [
    "top3 = []\n"
   ]
  }
 ],
 "metadata": {
  "kernelspec": {
   "display_name": "Python 3",
   "language": "python",
   "name": "python3"
  },
  "language_info": {
   "codemirror_mode": {
    "name": "ipython",
    "version": 3
   },
   "file_extension": ".py",
   "mimetype": "text/x-python",
   "name": "python",
   "nbconvert_exporter": "python",
   "pygments_lexer": "ipython3",
   "version": "3.11.5"
  }
 },
 "nbformat": 4,
 "nbformat_minor": 4
}

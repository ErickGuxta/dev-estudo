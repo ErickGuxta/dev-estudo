{
 "cells": [
  {
   "cell_type": "markdown",
   "metadata": {},
   "source": [
    "# Exercícios\n",
    "\n",
    "## 1. Criando um Registro de Hóspedes\n",
    "\n",
    "Digamos que você está criando o sistema para registrar a chegada de hóspedes em um hotel. No hotel, os hóspedes podem ter quartos com 1, 2, 3 e 4 pessoas. Seu sistema deve conseguir:\n",
    "\n",
    "1. Identificar quantas pessoas o hóspede que acabou de chegar vai ter no quarto (perguntando por meio de input)\n",
    "2. De acordo com a quantidade de pessoas do hóspede, ele deve fazer um for para perguntar o cpf e o nome de cada pessoa, a fim de registrá-la no quarto (2 inputs para cada pessoa, 1 para o cpf e outro para o nome)\n",
    "3. O seu programa então deve gerar uma lista com todas as pessoas que ficarão no quarto em que cada item dessa lista é o nome da pessoa e o cpf da pessoa, assim:"
   ]
  },
  {
   "cell_type": "raw",
   "metadata": {
    "vscode": {
     "languageId": "raw"
    }
   },
   "source": [
    "quarto = [\n",
    "    ['João', 'cpf:00000000000'],\n",
    "    ['Julia', 'cpf:11111111111'],\n",
    "    ['Marcus', 'cpf:22222222222'],\n",
    "    ['Maria', 'cpf:33333333333'],\n",
    "]\n",
    "\n"
   ]
  },
  {
   "cell_type": "markdown",
   "metadata": {},
   "source": [
    "- Para simplificar, não vamos nos preocupar com possibilidades de \"tentar colocar mais de 1 hóspede, digitar o cpf errado, etc. Nosso objetivo é treinar a criação de uma rotina de cadastro"
   ]
  },
  {
   "cell_type": "code",
   "execution_count": 1,
   "metadata": {},
   "outputs": [
    {
     "name": "stdout",
     "output_type": "stream",
     "text": [
      "[['erick', 'cpf:86656505554'], ['gusta', 'cpf:86656505557']]\n"
     ]
    }
   ],
   "source": [
    "qtde_pessoas = int(input('Quantas pessoas terão no quarto? '))\n",
    "quarto = []\n",
    "\n",
    "for i in range(qtde_pessoas):  #observe que como o meu input da qtde_pessoas é igual a 2, logo vai repetir (range) 2 vezes\n",
    "    \n",
    "    nome = input('Qual o seu nome? ')\n",
    "    cpf = input('Qual o seu cpf? ')\n",
    "\n",
    "    if not cpf.isnumeric():\n",
    "        print('O cpf deve conter apenas numeros')\n",
    "    else:\n",
    "        hospede = [nome, 'cpf:{}' .format(cpf)]\n",
    "        quarto.append(hospede)\n",
    "\n",
    "    \n",
    "print(quarto)"
   ]
  },
  {
   "cell_type": "markdown",
   "metadata": {},
   "source": [
    "## 2. Análise de Vendas\n",
    "\n",
    "Nesse exercício vamos fazer uma \"análise simples\" de atingimento de Meta.\n",
    "\n",
    "Temos uma lista com os vendedores e os valores de vendas e queremos identificar (printar) quais os vendedores que bateram a meta e qual foi o valor que eles venderam."
   ]
  },
  {
   "cell_type": "code",
   "execution_count": 3,
   "metadata": {},
   "outputs": [
    {
     "name": "stdout",
     "output_type": "stream",
     "text": [
      "O vendedor João bateu a meta. O valor vendido foi 15000\n",
      "O vendedor Julia bateu a meta. O valor vendido foi 27000\n",
      "O vendedor Ana bateu a meta. O valor vendido foi 10300\n"
     ]
    }
   ],
   "source": [
    "meta = 10000\n",
    "vendas = [\n",
    "    ['João', 15000],\n",
    "    ['Julia', 27000],\n",
    "    ['Marcus', 9900],\n",
    "    ['Maria', 3750],\n",
    "    ['Ana', 10300],\n",
    "    ['Alon', 7870],\n",
    "]\n",
    "\n",
    "for item in vendas:\n",
    "    if item[1] >= meta:\n",
    "        print('O vendedor {} bateu a meta. O valor vendido foi {}' .format(item[0], item[1]))\n",
    "#seu código aqui"
   ]
  },
  {
   "cell_type": "markdown",
   "metadata": {},
   "source": [
    "## 3. Comparação com Ano Anterior\n",
    "\n",
    "Digamos que você está analisando as vendas de produtos de um ecommerce e quer identificar quais produtos tiveram no ano de 2020 mais vendas do que no ano de 2019, para reportar isso para a diretoria.\n",
    "\n",
    "Sua resposta pode ser um print de cada produto, qual foi a venda de 2019, a venda de 2020 e o % de crescimento de 2020 para 2019.\n",
    "\n",
    "Lembrando, para calcular o % de crescimento de um produto de um ano para o outro, podemos fazer: (vendas_produto2020/vendas_produto2019 - 1)\n",
    "\n",
    "Dica: lembre do enumerate, ele pode facilitar seu \"for\""
   ]
  },
  {
   "cell_type": "code",
   "execution_count": 19,
   "metadata": {},
   "outputs": [
    {
     "name": "stdout",
     "output_type": "stream",
     "text": [
      "A venda de iphone em 2019 foi 558147, 2020 foi 951642 e o % de crescimento de 2020 para 2019 foi 170.5%\n",
      "A venda de tv em 2019 foi 405252, 2020 foi 787604 e o % de crescimento de 2020 para 2019 foi 194.3%\n",
      "A venda de máquina de café em 2019 foi 718654, 2020 foi 867660 e o % de crescimento de 2020 para 2019 foi 120.7%\n",
      "A venda de notebook dell em 2019 foi 422760, 2020 foi 694913 e o % de crescimento de 2020 para 2019 foi 164.4%\n",
      "A venda de notebook hp em 2019 foi 154753, 2020 foi 539704 e o % de crescimento de 2020 para 2019 foi 348.8%\n",
      "A venda de microsoft surface em 2019 foi 438508, 2020 foi 667179 e o % de crescimento de 2020 para 2019 foi 152.1%\n",
      "A venda de webcam em 2019 foi 237467, 2020 foi 295633 e o % de crescimento de 2020 para 2019 foi 124.5%\n",
      "A venda de caixa de som em 2019 foi 489705, 2020 foi 725316 e o % de crescimento de 2020 para 2019 foi 148.1%\n",
      "A venda de microfone em 2019 foi 328311, 2020 foi 644622 e o % de crescimento de 2020 para 2019 foi 196.3%\n",
      "A venda de câmera canon em 2019 foi 591120, 2020 foi 994303 e o % de crescimento de 2020 para 2019 foi 168.2%\n"
     ]
    }
   ],
   "source": [
    "produtos = ['iphone', 'galaxy', 'ipad', 'tv', 'máquina de café', 'kindle', 'geladeira', 'adega', 'notebook dell', 'notebook hp', 'notebook asus', 'microsoft surface', 'webcam', 'caixa de som', 'microfone', 'câmera canon']\n",
    "vendas2019 = [558147,712350,573823,405252,718654,531580,973139,892292,422760,154753,887061,438508,237467,489705,328311,591120]\n",
    "vendas2020 = [951642,244295,26964,787604,867660,78830,710331,646016,694913,539704,324831,667179,295633,725316,644622,994303]\n",
    "#seu código aqui\n",
    "\n",
    "\n",
    "for i, produto in enumerate(produtos):\n",
    "    if vendas2020[i] >= vendas2019[i]:\n",
    "        crescimento = vendas2020[i]/vendas2019[i]\n",
    "        print('A venda de {} em 2019 foi {}, 2020 foi {} e o % de crescimento de 2020 para 2019 foi {:.1%}' .format(produto, vendas2019[i], vendas2020[i], crescimento))"
   ]
  },
  {
   "cell_type": "code",
   "execution_count": null,
   "metadata": {},
   "outputs": [],
   "source": []
  }
 ],
 "metadata": {
  "kernelspec": {
   "display_name": "Python 3 (ipykernel)",
   "language": "python",
   "name": "python3"
  },
  "language_info": {
   "codemirror_mode": {
    "name": "ipython",
    "version": 3
   },
   "file_extension": ".py",
   "mimetype": "text/x-python",
   "name": "python",
   "nbconvert_exporter": "python",
   "pygments_lexer": "ipython3",
   "version": "3.11.5"
  }
 },
 "nbformat": 4,
 "nbformat_minor": 4
}
